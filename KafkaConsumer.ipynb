{
  "nbformat": 4,
  "nbformat_minor": 0,
  "metadata": {
    "colab": {
      "provenance": []
    },
    "kernelspec": {
      "name": "python3",
      "display_name": "Python 3"
    },
    "language_info": {
      "name": "python"
    }
  },
  "cells": [
    {
      "cell_type": "code",
      "source": [
        "!pip install s3fs"
      ],
      "metadata": {
        "id": "7r3PGkko7AL6",
        "colab": {
          "base_uri": "https://localhost:8080/"
        },
        "outputId": "a4290418-9737-47a2-d5e4-3dc8ea35ea46"
      },
      "execution_count": 1,
      "outputs": [
        {
          "output_type": "stream",
          "name": "stdout",
          "text": [
            "\u001b[31mERROR: Operation cancelled by user\u001b[0m\n"
          ]
        }
      ]
    },
    {
      "cell_type": "code",
      "source": [
        "!pip install kafka-python"
      ],
      "metadata": {
        "id": "GFcN1PT57NaH"
      },
      "execution_count": null,
      "outputs": []
    },
    {
      "cell_type": "code",
      "source": [
        "import pandas as pd\n",
        "from kafka import KafkaConsumer\n",
        "from time import sleep\n",
        "from json import dumps,loads\n",
        "import json\n",
        "from s3fs import S3FileSystem"
      ],
      "metadata": {
        "id": "kkWWPwjX7U0M"
      },
      "execution_count": null,
      "outputs": []
    },
    {
      "cell_type": "code",
      "source": [
        "consumer = KafkaConsumer('demo_testing',\n",
        "                         bootstrap_servers=['15.206.128.113:9092'],\n",
        "                         value_deserializer = lambda x:\n",
        "                         loads(x.decode('utf-8')))"
      ],
      "metadata": {
        "colab": {
          "base_uri": "https://localhost:8080/"
        },
        "id": "FH-zOSlv7YNs",
        "outputId": "0459e9ea-ced5-4c41-9240-99bd6abda205"
      },
      "execution_count": null,
      "outputs": [
        {
          "output_type": "stream",
          "name": "stderr",
          "text": [
            "WARNING:kafka.coordinator.consumer:group_id is None: disabling auto-commit.\n"
          ]
        }
      ]
    },
    {
      "cell_type": "code",
      "source": [
        "#for c in consumer:\n",
        "  #  print(c.value)"
      ],
      "metadata": {
        "id": "V9khxkUQ831I"
      },
      "execution_count": null,
      "outputs": []
    },
    {
      "cell_type": "code",
      "source": [
        "s3 = S3FileSystem()"
      ],
      "metadata": {
        "id": "ChbuhIhRra4Y"
      },
      "execution_count": null,
      "outputs": []
    },
    {
      "cell_type": "code",
      "source": [
        "for count, i in enumerate(consumer):\n",
        "    with s3.open(\"s3://kafka-second-rides-live-project/stock_market_{}.json\".format(count), 'w') as file:\n",
        "        json.dump(i.value, file)    \n",
        "    "
      ],
      "metadata": {
        "id": "cI-DfFJnrFig"
      },
      "execution_count": null,
      "outputs": []
    }
  ]
}